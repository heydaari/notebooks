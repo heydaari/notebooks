{
  "nbformat": 4,
  "nbformat_minor": 0,
  "metadata": {
    "colab": {
      "provenance": [],
      "gpuType": "V28"
    },
    "kernelspec": {
      "name": "python3",
      "display_name": "Python 3"
    },
    "language_info": {
      "name": "python"
    },
    "accelerator": "TPU"
  },
  "cells": [
    {
      "cell_type": "code",
      "execution_count": 3,
      "metadata": {
        "colab": {
          "base_uri": "https://localhost:8080/"
        },
        "id": "noo9598Ntvvv",
        "outputId": "dbe31b1a-ee04-4563-c3c7-47f99f1e208c"
      },
      "outputs": [
        {
          "output_type": "stream",
          "name": "stdout",
          "text": [
            "TPU_0(process=0,(0,0,0,0))\n",
            "TPU_1(process=0,(0,0,0,1))\n",
            "TPU_2(process=0,(1,0,0,0))\n",
            "TPU_3(process=0,(1,0,0,1))\n",
            "TPU_4(process=0,(0,1,0,0))\n",
            "TPU_5(process=0,(0,1,0,1))\n",
            "TPU_6(process=0,(1,1,0,0))\n",
            "TPU_7(process=0,(1,1,0,1))\n"
          ]
        }
      ],
      "source": [
        "import jax\n",
        "devices = jax.devices()\n",
        "\n",
        "for item in devices:\n",
        "  print(item)"
      ]
    },
    {
      "cell_type": "code",
      "source": [
        "import jax.numpy as jnp\n",
        "from jax import random\n",
        "from jax import grad, jit\n",
        "import numpy as np\n",
        "\n",
        "key = random.PRNGKey(0)"
      ],
      "metadata": {
        "id": "xZGvXiaWuV7H"
      },
      "execution_count": 4,
      "outputs": []
    },
    {
      "cell_type": "code",
      "source": [
        "# runs on CPU - numpy\n",
        "size = 5000\n",
        "x = np.random.normal(size=(size, size)).astype(np.float32)\n",
        "%timeit np.dot(x, x.T)"
      ],
      "metadata": {
        "colab": {
          "base_uri": "https://localhost:8080/"
        },
        "id": "8EzHjpDDubBT",
        "outputId": "a23f1835-3198-4b87-9957-22bda8731551"
      },
      "execution_count": 5,
      "outputs": [
        {
          "output_type": "stream",
          "name": "stdout",
          "text": [
            "138 ms ± 584 µs per loop (mean ± std. dev. of 7 runs, 10 loops each)\n"
          ]
        }
      ]
    },
    {
      "cell_type": "code",
      "source": [
        "# runs on CPU - JAX\n",
        "size = 5000\n",
        "x = random.normal(key, (size, size), dtype=jnp.float32)\n",
        "%timeit jnp.dot(x, x.T).block_until_ready()"
      ],
      "metadata": {
        "colab": {
          "base_uri": "https://localhost:8080/"
        },
        "id": "ZMvtSHj3ukZO",
        "outputId": "5534e86a-8145-449d-e77b-4c62735dc694"
      },
      "execution_count": 6,
      "outputs": [
        {
          "output_type": "stream",
          "name": "stdout",
          "text": [
            "13.4 ms ± 65.3 µs per loop (mean ± std. dev. of 7 runs, 1 loop each)\n"
          ]
        }
      ]
    },
    {
      "cell_type": "code",
      "source": [
        "\n",
        "# runs on TPU\n",
        "size = 5000\n",
        "x = random.normal(key, (size, size), dtype=jnp.float32)\n",
        "%time x_jax = jax.device_put(x)  # 1. measure JAX device transfer time\n",
        "%time jnp.dot(x_jax, x_jax.T).block_until_ready()  # 2. measure JAX compilation time\n",
        "%timeit jnp.dot(x_jax, x_jax.T).block_until_ready() # 3. measure JAX running time"
      ],
      "metadata": {
        "colab": {
          "base_uri": "https://localhost:8080/"
        },
        "id": "55tLmrJHusLA",
        "outputId": "b37d9771-d977-41a0-c8b6-f2b6edb6fdb2"
      },
      "execution_count": 7,
      "outputs": [
        {
          "output_type": "stream",
          "name": "stdout",
          "text": [
            "CPU times: user 75 µs, sys: 110 µs, total: 185 µs\n",
            "Wall time: 231 µs\n",
            "CPU times: user 1.92 ms, sys: 2.02 ms, total: 3.94 ms\n",
            "Wall time: 14.8 ms\n",
            "13.4 ms ± 23.6 µs per loop (mean ± std. dev. of 7 runs, 100 loops each)\n"
          ]
        }
      ]
    },
    {
      "cell_type": "code",
      "source": [
        "from time import time\n",
        "\n",
        "a = time()\n",
        "x = jnp.dot(x_jax, x_jax.T)\n",
        "b = time()\n",
        "\n",
        "m = b-a\n",
        "print(b-a)"
      ],
      "metadata": {
        "colab": {
          "base_uri": "https://localhost:8080/"
        },
        "id": "qn818Yt-uwyY",
        "outputId": "e59a31bc-dabd-4afa-d07a-c375b8eb2bf8"
      },
      "execution_count": 19,
      "outputs": [
        {
          "output_type": "stream",
          "name": "stdout",
          "text": [
            "0.001363992691040039\n"
          ]
        }
      ]
    },
    {
      "cell_type": "code",
      "source": [
        "a = time()\n",
        "y = np.dot(x, x.T)\n",
        "b = time()\n",
        "\n",
        "n = b-a\n",
        "print(b-a)"
      ],
      "metadata": {
        "colab": {
          "base_uri": "https://localhost:8080/"
        },
        "id": "1hnB4foVvBKj",
        "outputId": "daca86a0-a0c5-4675-aa64-fc482129ccd0"
      },
      "execution_count": 20,
      "outputs": [
        {
          "output_type": "stream",
          "name": "stdout",
          "text": [
            "0.309955358505249\n"
          ]
        }
      ]
    },
    {
      "cell_type": "code",
      "source": [
        "print(n/m)"
      ],
      "metadata": {
        "colab": {
          "base_uri": "https://localhost:8080/"
        },
        "id": "UhGMkR5dvQh8",
        "outputId": "fbb66ab0-42f2-419e-be21-600a87e98498"
      },
      "execution_count": 22,
      "outputs": [
        {
          "output_type": "stream",
          "name": "stdout",
          "text": [
            "227.24121657052962\n"
          ]
        }
      ]
    },
    {
      "cell_type": "code",
      "source": [
        "def selu_np(x, alpha=1.67, lmbda=1.05):\n",
        "  return lmbda * np.where(x > 0, x, alpha * np.exp(x) - alpha)\n",
        "\n",
        "@jax.jit\n",
        "def selu_jax(x, alpha=1.67, lmbda=1.05):\n",
        "  return lmbda * jnp.where(x > 0, x, alpha * jnp.exp(x) - alpha)"
      ],
      "metadata": {
        "id": "nNcC5lcSvl4P"
      },
      "execution_count": 35,
      "outputs": []
    },
    {
      "cell_type": "code",
      "source": [
        "# runs on the CPU - numpy\n",
        "\n",
        "\n",
        "x = np.random.normal(size=(1000000,)).astype(np.float32)\n",
        "\n",
        "a = time()\n",
        "selu_np(x)\n",
        "b = time()\n",
        "\n",
        "print(b-a)"
      ],
      "metadata": {
        "colab": {
          "base_uri": "https://localhost:8080/"
        },
        "id": "OBoo4OstvplF",
        "outputId": "10c8b7ff-facd-470b-ebac-e5a8647755fb"
      },
      "execution_count": 36,
      "outputs": [
        {
          "output_type": "stream",
          "name": "stdout",
          "text": [
            "0.007717132568359375\n"
          ]
        }
      ]
    },
    {
      "cell_type": "code",
      "source": [
        "# runs on the CPU - JAX\n",
        "x = random.normal(key, (1000000,))\n",
        "x = jax.device_put(x)\n",
        "selu_jax(x).block_until_ready() # 1. measure JAX compilation time\n",
        "\n",
        "a = time()\n",
        "selu_jax(x).block_until_ready() # 2. measure JAX runtime\n",
        "b = time()\n",
        "\n",
        "print(b-a)"
      ],
      "metadata": {
        "colab": {
          "base_uri": "https://localhost:8080/"
        },
        "id": "qF9ONVvCv44o",
        "outputId": "7a1f78b1-af69-414e-ceb3-62f5f7ac5990"
      },
      "execution_count": 38,
      "outputs": [
        {
          "output_type": "stream",
          "name": "stdout",
          "text": [
            "0.0007071495056152344\n"
          ]
        }
      ]
    }
  ]
}