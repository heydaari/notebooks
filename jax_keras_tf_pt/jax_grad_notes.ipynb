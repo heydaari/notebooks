{
  "nbformat": 4,
  "nbformat_minor": 0,
  "metadata": {
    "colab": {
      "provenance": []
    },
    "kernelspec": {
      "name": "python3",
      "display_name": "Python 3"
    },
    "language_info": {
      "name": "python"
    }
  },
  "cells": [
    {
      "cell_type": "markdown",
      "source": [
        "# JAX grad()"
      ],
      "metadata": {
        "id": "9e3LT9rMurJN"
      }
    },
    {
      "cell_type": "code",
      "execution_count": 2,
      "metadata": {
        "id": "zLZJupccpitt"
      },
      "outputs": [],
      "source": [
        "import jax.numpy as jnp\n",
        "from jax import grad, jit, vmap\n",
        "from jax import random\n",
        "\n",
        "key = random.key(0)"
      ]
    },
    {
      "cell_type": "markdown",
      "source": [
        "* grad() takes a function and returns a function that is the derivation of the input function as a function :)"
      ],
      "metadata": {
        "id": "-wZc3ScwuH-1"
      }
    },
    {
      "cell_type": "code",
      "source": [
        "grad_tanh = grad(jnp.tanh)\n",
        "print(grad_tanh(2.0))"
      ],
      "metadata": {
        "colab": {
          "base_uri": "https://localhost:8080/"
        },
        "id": "L4osdd-4tzFE",
        "outputId": "cab16e08-7b11-4c5f-ee2a-60838f9bc575"
      },
      "execution_count": 3,
      "outputs": [
        {
          "output_type": "stream",
          "name": "stdout",
          "text": [
            "0.070650816\n"
          ]
        }
      ]
    },
    {
      "cell_type": "code",
      "source": [
        "print(grad(grad(jnp.tanh))(2.0))\n",
        "print(grad(grad(grad(jnp.tanh)))(2.0))"
      ],
      "metadata": {
        "colab": {
          "base_uri": "https://localhost:8080/"
        },
        "id": "o3h-289IuGhV",
        "outputId": "5396a55e-bd45-43d0-9148-cb70515b123f"
      },
      "execution_count": 4,
      "outputs": [
        {
          "output_type": "stream",
          "name": "stdout",
          "text": [
            "-0.13621868\n",
            "0.25265405\n"
          ]
        }
      ]
    },
    {
      "cell_type": "markdown",
      "source": [
        "## Lets test the linear logistic regression model"
      ],
      "metadata": {
        "id": "2nHWIGbqul3W"
      }
    },
    {
      "cell_type": "code",
      "source": [
        "def sigmoid(x):\n",
        "    return 0.5 * (jnp.tanh(x / 2) + 1)\n",
        "\n",
        "# Outputs probability of a label being true.\n",
        "def predict(W, b, inputs):\n",
        "    return sigmoid(jnp.dot(inputs, W) + b)\n",
        "\n",
        "# Build a toy dataset.\n",
        "inputs = jnp.array([[0.52, 1.12,  0.77],\n",
        "                   [0.88, -1.08, 0.15],\n",
        "                   [0.52, 0.06, -1.30],\n",
        "                   [0.74, -2.49, 1.39]])\n",
        "targets = jnp.array([True, True, False, True])\n",
        "\n",
        "# Training loss is the negative log-likelihood of the training examples.\n",
        "def loss(W, b):\n",
        "    preds = predict(W, b, inputs)\n",
        "    label_probs = preds * targets + (1 - preds) * (1 - targets)\n",
        "    return -jnp.sum(jnp.log(label_probs))\n",
        "\n",
        "# Initialize random model coefficients\n",
        "key, W_key, b_key = random.split(key, 3)\n",
        "W = random.normal(W_key, (3,))\n",
        "b = random.normal(b_key, ())"
      ],
      "metadata": {
        "id": "q77h5fFduwAl"
      },
      "execution_count": 5,
      "outputs": []
    },
    {
      "cell_type": "markdown",
      "source": [
        "* checking the shape of the variables for better understanding the procedure"
      ],
      "metadata": {
        "id": "1418HslvvRUO"
      }
    },
    {
      "cell_type": "code",
      "source": [
        "print('inputs : ', inputs, '----> ', inputs.shape,'\\n')\n",
        "print('targets : ',targets, '----> ', targets.shape, '\\n')\n",
        "print('Loss(W, b) : ',loss(W, b), '----> ', loss(W, b).shape, '\\n')\n",
        "print('W : ',W, '----> ', W.shape, '\\n')\n",
        "print('b : ',b, '----> ', b.shape, '\\n')"
      ],
      "metadata": {
        "colab": {
          "base_uri": "https://localhost:8080/"
        },
        "id": "QHzJr-jtvOkH",
        "outputId": "d8bd3347-3248-40e7-b8d9-ccf0f58cb311"
      },
      "execution_count": 6,
      "outputs": [
        {
          "output_type": "stream",
          "name": "stdout",
          "text": [
            "inputs :  [[ 0.52  1.12  0.77]\n",
            " [ 0.88 -1.08  0.15]\n",
            " [ 0.52  0.06 -1.3 ]\n",
            " [ 0.74 -2.49  1.39]] ---->  (4, 3) \n",
            "\n",
            "targets :  [ True  True False  True] ---->  (4,) \n",
            "\n",
            "Loss(W, b) :  3.0519385 ---->  () \n",
            "\n",
            "W :  [-0.36838785 -2.275689    0.01144757] ---->  (3,) \n",
            "\n",
            "b :  0.8535516 ---->  () \n",
            "\n"
          ]
        }
      ]
    },
    {
      "cell_type": "code",
      "source": [
        "# Differentiate `loss` with respect to the first positional argument:\n",
        "W_grad = grad(loss, argnums=0)(W, b)\n",
        "print('W_grad', W_grad)\n",
        "\n",
        "# Since argnums=0 is the default, this does the same thing:\n",
        "W_grad = grad(loss)(W, b)\n",
        "print('W_grad', W_grad)\n",
        "\n",
        "# But we can choose different values too, and drop the keyword:\n",
        "b_grad = grad(loss, 1)(W, b)\n",
        "print('b_grad', b_grad)\n",
        "\n",
        "# Including tuple values\n",
        "W_grad, b_grad = grad(loss, (0, 1))(W, b)\n",
        "print('W_grad', W_grad)\n",
        "print('b_grad', b_grad)"
      ],
      "metadata": {
        "colab": {
          "base_uri": "https://localhost:8080/"
        },
        "id": "DfqcsJocwW1Y",
        "outputId": "5c9dd171-2285-4af9-e8d9-c4e0b8c82ab7"
      },
      "execution_count": 7,
      "outputs": [
        {
          "output_type": "stream",
          "name": "stdout",
          "text": [
            "W_grad [-0.16965583 -0.8774644  -1.4901346 ]\n",
            "W_grad [-0.16965583 -0.8774644  -1.4901346 ]\n",
            "b_grad -0.29227245\n",
            "W_grad [-0.16965583 -0.8774644  -1.4901346 ]\n",
            "b_grad -0.29227245\n"
          ]
        }
      ]
    },
    {
      "cell_type": "markdown",
      "source": [
        "## Differentiating with respect to nested dicts"
      ],
      "metadata": {
        "id": "R5DwnVOIN8vL"
      }
    },
    {
      "cell_type": "code",
      "source": [
        "def loss2(params_dict):\n",
        "    preds = predict(params_dict['W'], params_dict['b'], inputs)\n",
        "    label_probs = preds * targets + (1 - preds) * (1 - targets)\n",
        "    return -jnp.sum(jnp.log(label_probs))\n",
        "\n",
        "print(grad(loss2)({'W': W, 'b': b}))"
      ],
      "metadata": {
        "colab": {
          "base_uri": "https://localhost:8080/"
        },
        "id": "hYH5y0wrOAu6",
        "outputId": "4f974b86-ce2b-472c-c9b7-78df5614aa57"
      },
      "execution_count": 8,
      "outputs": [
        {
          "output_type": "stream",
          "name": "stdout",
          "text": [
            "{'W': Array([-0.16965583, -0.8774644 , -1.4901346 ], dtype=float32), 'b': Array(-0.29227245, dtype=float32)}\n"
          ]
        }
      ]
    },
    {
      "cell_type": "markdown",
      "source": [
        "# JAX value_and_grad()\n",
        "* efficiently computing both a function’s value as well as its gradient’s value"
      ],
      "metadata": {
        "id": "6-RVmAqSO7VD"
      }
    },
    {
      "cell_type": "code",
      "source": [
        "from jax import value_and_grad\n",
        "loss_value, Wb_grad = value_and_grad(loss, (0, 1))(W, b)\n",
        "print('loss value', loss_value)\n",
        "print('loss value', loss(W, b))"
      ],
      "metadata": {
        "colab": {
          "base_uri": "https://localhost:8080/"
        },
        "id": "dEyztPDMO7Em",
        "outputId": "3e8a8bfb-a563-44e2-f41d-748d57f106c8"
      },
      "execution_count": 9,
      "outputs": [
        {
          "output_type": "stream",
          "name": "stdout",
          "text": [
            "loss value 3.0519385\n",
            "loss value 3.0519385\n"
          ]
        }
      ]
    }
  ]
}